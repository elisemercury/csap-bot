{
 "cells": [
  {
   "cell_type": "code",
   "execution_count": 156,
   "metadata": {},
   "outputs": [
    {
     "name": "stdout",
     "output_type": "stream",
     "text": [
      "<Response [403]>\n"
     ]
    }
   ],
   "source": [
    "import requests\n",
    "from requests_ntlm import HttpNtlmAuth\n",
    "from requests.auth import HTTPBasicAuth\n",
    "\n",
    "USERNAME = \"elandman@cisco.com\"\n",
    "PASSWORD = \"PoesLuluMilly21*\"\n",
    "\n",
    "#requests.get(\"https://cisco.sharepoint.com/sites/CSAPGlobal\", auth=HttpNtlmAuth('cisco\\\\elandman','PoesLuluMilly21*'))\n",
    "response = requests.get(\"https://cisco.sharepoint.com/sites/CSAPGlobal\", auth=HTTPBasicAuth(USERNAME, PASSWORD))\n",
    "print(response)"
   ]
  },
  {
   "cell_type": "code",
   "execution_count": 5,
   "metadata": {},
   "outputs": [
    {
     "ename": "Exception",
     "evalue": "('Error authenticating against Office 365. Was not able to find an error code. Here is the SOAP response from Office 365', b'<?xml version=\"1.0\" encoding=\"utf-8\"?><S:Envelope xmlns:wsa=\"http://www.w3.org/2005/08/addressing\" xmlns:wsse=\"http://docs.oasis-open.org/wss/2004/01/oasis-200401-wss-wssecurity-secext-1.0.xsd\" xmlns:wsu=\"http://docs.oasis-open.org/wss/2004/01/oasis-200401-wss-wssecurity-utility-1.0.xsd\" xmlns:wsp=\"http://schemas.xmlsoap.org/ws/2004/09/policy\" xmlns:wst=\"http://schemas.xmlsoap.org/ws/2005/02/trust\" xmlns:S=\"http://www.w3.org/2003/05/soap-envelope\"><S:Header><wsa:Action S:mustUnderstand=\"1\" wsu:Id=\"Action\">http://schemas.xmlsoap.org/ws/2005/02/trust/RSTR/Issue</wsa:Action><wsa:To S:mustUnderstand=\"1\" wsu:Id=\"To\">http://schemas.xmlsoap.org/ws/2004/08/addressing/role/anonymous</wsa:To><wsse:Security S:mustUnderstand=\"1\"><wsu:Timestamp wsu:Id=\"TS\" xmlns:wsu=\"http://docs.oasis-open.org/wss/2004/01/oasis-200401-wss-wssecurity-utility-1.0.xsd\"><wsu:Created>2021-02-20T14:36:13.7601885Z</wsu:Created><wsu:Expires>2021-02-20T14:41:13.7601885Z</wsu:Expires></wsu:Timestamp></wsse:Security></S:Header><S:Body xmlns:S=\"http://www.w3.org/2003/05/soap-envelope\"><wst:RequestSecurityTokenResponse xmlns:wsu=\"http://docs.oasis-open.org/wss/2004/01/oasis-200401-wss-wssecurity-utility-1.0.xsd\" xmlns:wsp=\"http://schemas.xmlsoap.org/ws/2004/09/policy\" xmlns:wst=\"http://schemas.xmlsoap.org/ws/2005/02/trust\"><wsp:AppliesTo><wsa:EndpointReference xmlns:wsa=\"http://www.w3.org/2005/08/addressing\"><wsa:Address>https://cisco.sharepoint.com</wsa:Address></wsa:EndpointReference></wsp:AppliesTo><psf:pp xmlns:psf=\"http://schemas.microsoft.com/Passport/SoapServices/SOAPFault\"><psf:reqstatus>0x8004882c</psf:reqstatus><psf:errorstatus>0x80045b00</psf:errorstatus></psf:pp></wst:RequestSecurityTokenResponse></S:Body></S:Envelope>')",
     "output_type": "error",
     "traceback": [
      "\u001b[1;31m---------------------------------------------------------------------------\u001b[0m",
      "\u001b[1;31mException\u001b[0m                                 Traceback (most recent call last)",
      "\u001b[1;32m<ipython-input-5-bcbd400eb752>\u001b[0m in \u001b[0;36m<module>\u001b[1;34m\u001b[0m\n\u001b[0;32m      2\u001b[0m \u001b[1;32mfrom\u001b[0m \u001b[0mshareplum\u001b[0m \u001b[1;32mimport\u001b[0m \u001b[0mOffice365\u001b[0m\u001b[1;33m\u001b[0m\u001b[1;33m\u001b[0m\u001b[0m\n\u001b[0;32m      3\u001b[0m \u001b[1;33m\u001b[0m\u001b[0m\n\u001b[1;32m----> 4\u001b[1;33m \u001b[0mauthcookie\u001b[0m \u001b[1;33m=\u001b[0m \u001b[0mOffice365\u001b[0m\u001b[1;33m(\u001b[0m\u001b[1;34m'https://cisco.sharepoint.com'\u001b[0m\u001b[1;33m,\u001b[0m \u001b[0musername\u001b[0m\u001b[1;33m=\u001b[0m\u001b[0mUSERNAME\u001b[0m\u001b[1;33m,\u001b[0m \u001b[0mpassword\u001b[0m\u001b[1;33m=\u001b[0m\u001b[0mPASSWORD\u001b[0m\u001b[1;33m)\u001b[0m\u001b[1;33m.\u001b[0m\u001b[0mGetCookies\u001b[0m\u001b[1;33m(\u001b[0m\u001b[1;33m)\u001b[0m\u001b[1;33m\u001b[0m\u001b[1;33m\u001b[0m\u001b[0m\n\u001b[0m\u001b[0;32m      5\u001b[0m \u001b[0msite\u001b[0m \u001b[1;33m=\u001b[0m \u001b[0mSite\u001b[0m\u001b[1;33m(\u001b[0m\u001b[1;34m\"https://cisco.sharepoint.com/sites/CSAPGlobal\"\u001b[0m\u001b[1;33m,\u001b[0m \u001b[0mauthcookie\u001b[0m\u001b[1;33m=\u001b[0m\u001b[0mauthcookie\u001b[0m\u001b[1;33m)\u001b[0m\u001b[1;33m\u001b[0m\u001b[1;33m\u001b[0m\u001b[0m\n\u001b[0;32m      6\u001b[0m \u001b[1;31m#sp_list = site.List('list name')\u001b[0m\u001b[1;33m\u001b[0m\u001b[1;33m\u001b[0m\u001b[1;33m\u001b[0m\u001b[0m\n",
      "\u001b[1;32m~\\Anaconda3\\lib\\site-packages\\shareplum\\office365.py\u001b[0m in \u001b[0;36mget_cookies\u001b[1;34m(self)\u001b[0m\n\u001b[0;32m     86\u001b[0m         \u001b[1;32mand\u001b[0m \u001b[0muses\u001b[0m \u001b[0mit\u001b[0m \u001b[1;32mas\u001b[0m \u001b[0mAuthentication\u001b[0m \u001b[1;32mfor\u001b[0m \u001b[0mthe\u001b[0m \u001b[0mrest\u001b[0m \u001b[0mof\u001b[0m \u001b[0mthe\u001b[0m \u001b[0mcalls\u001b[0m\u001b[1;33m\u001b[0m\u001b[1;33m\u001b[0m\u001b[0m\n\u001b[0;32m     87\u001b[0m         \"\"\"\n\u001b[1;32m---> 88\u001b[1;33m         \u001b[0msectoken\u001b[0m \u001b[1;33m=\u001b[0m \u001b[0mself\u001b[0m\u001b[1;33m.\u001b[0m\u001b[0mget_security_token\u001b[0m\u001b[1;33m(\u001b[0m\u001b[0mself\u001b[0m\u001b[1;33m.\u001b[0m\u001b[0musername\u001b[0m\u001b[1;33m,\u001b[0m \u001b[0mself\u001b[0m\u001b[1;33m.\u001b[0m\u001b[0mpassword\u001b[0m\u001b[1;33m)\u001b[0m\u001b[1;33m\u001b[0m\u001b[1;33m\u001b[0m\u001b[0m\n\u001b[0m\u001b[0;32m     89\u001b[0m         \u001b[0murl\u001b[0m \u001b[1;33m=\u001b[0m \u001b[0mself\u001b[0m\u001b[1;33m.\u001b[0m\u001b[0mshare_point_site\u001b[0m \u001b[1;33m+\u001b[0m \u001b[1;34m\"/_forms/default.aspx?wa=wsignin1.0\"\u001b[0m\u001b[1;33m\u001b[0m\u001b[1;33m\u001b[0m\u001b[0m\n\u001b[0;32m     90\u001b[0m         \u001b[0mresponse\u001b[0m \u001b[1;33m=\u001b[0m \u001b[0mpost\u001b[0m\u001b[1;33m(\u001b[0m\u001b[0mrequests\u001b[0m\u001b[1;33m,\u001b[0m \u001b[0murl\u001b[0m\u001b[1;33m,\u001b[0m \u001b[0mdata\u001b[0m\u001b[1;33m=\u001b[0m\u001b[0msectoken\u001b[0m\u001b[1;33m)\u001b[0m\u001b[1;33m\u001b[0m\u001b[1;33m\u001b[0m\u001b[0m\n",
      "\u001b[1;32m~\\Anaconda3\\lib\\site-packages\\shareplum\\office365.py\u001b[0m in \u001b[0;36mget_security_token\u001b[1;34m(self, username, password)\u001b[0m\n\u001b[0;32m     76\u001b[0m             \u001b[0mmessage\u001b[0m \u001b[1;33m=\u001b[0m \u001b[0mxmldoc\u001b[0m\u001b[1;33m.\u001b[0m\u001b[0mfindall\u001b[0m\u001b[1;33m(\u001b[0m\u001b[1;34m'.//{http://schemas.microsoft.com/Passport/SoapServices/SOAPFault}text'\u001b[0m\u001b[1;33m)\u001b[0m\u001b[1;33m\u001b[0m\u001b[1;33m\u001b[0m\u001b[0m\n\u001b[0;32m     77\u001b[0m             \u001b[1;32mif\u001b[0m \u001b[0mlen\u001b[0m\u001b[1;33m(\u001b[0m\u001b[0mmessage\u001b[0m\u001b[1;33m)\u001b[0m \u001b[1;33m<\u001b[0m \u001b[1;36m1\u001b[0m\u001b[1;33m:\u001b[0m\u001b[1;33m\u001b[0m\u001b[1;33m\u001b[0m\u001b[0m\n\u001b[1;32m---> 78\u001b[1;33m                 raise Exception('Error authenticating against Office 365. Was not able to find an error code. Here is '\n\u001b[0m\u001b[0;32m     79\u001b[0m                                 'the SOAP response from Office 365', response.content)\n\u001b[0;32m     80\u001b[0m             \u001b[1;32mraise\u001b[0m \u001b[0mException\u001b[0m\u001b[1;33m(\u001b[0m\u001b[1;34m'Error authenticating against Office 365. Error from Office 365:'\u001b[0m\u001b[1;33m,\u001b[0m \u001b[0mmessage\u001b[0m\u001b[1;33m[\u001b[0m\u001b[1;36m0\u001b[0m\u001b[1;33m]\u001b[0m\u001b[1;33m.\u001b[0m\u001b[0mtext\u001b[0m\u001b[1;33m)\u001b[0m\u001b[1;33m\u001b[0m\u001b[1;33m\u001b[0m\u001b[0m\n",
      "\u001b[1;31mException\u001b[0m: ('Error authenticating against Office 365. Was not able to find an error code. Here is the SOAP response from Office 365', b'<?xml version=\"1.0\" encoding=\"utf-8\"?><S:Envelope xmlns:wsa=\"http://www.w3.org/2005/08/addressing\" xmlns:wsse=\"http://docs.oasis-open.org/wss/2004/01/oasis-200401-wss-wssecurity-secext-1.0.xsd\" xmlns:wsu=\"http://docs.oasis-open.org/wss/2004/01/oasis-200401-wss-wssecurity-utility-1.0.xsd\" xmlns:wsp=\"http://schemas.xmlsoap.org/ws/2004/09/policy\" xmlns:wst=\"http://schemas.xmlsoap.org/ws/2005/02/trust\" xmlns:S=\"http://www.w3.org/2003/05/soap-envelope\"><S:Header><wsa:Action S:mustUnderstand=\"1\" wsu:Id=\"Action\">http://schemas.xmlsoap.org/ws/2005/02/trust/RSTR/Issue</wsa:Action><wsa:To S:mustUnderstand=\"1\" wsu:Id=\"To\">http://schemas.xmlsoap.org/ws/2004/08/addressing/role/anonymous</wsa:To><wsse:Security S:mustUnderstand=\"1\"><wsu:Timestamp wsu:Id=\"TS\" xmlns:wsu=\"http://docs.oasis-open.org/wss/2004/01/oasis-200401-wss-wssecurity-utility-1.0.xsd\"><wsu:Created>2021-02-20T14:36:13.7601885Z</wsu:Created><wsu:Expires>2021-02-20T14:41:13.7601885Z</wsu:Expires></wsu:Timestamp></wsse:Security></S:Header><S:Body xmlns:S=\"http://www.w3.org/2003/05/soap-envelope\"><wst:RequestSecurityTokenResponse xmlns:wsu=\"http://docs.oasis-open.org/wss/2004/01/oasis-200401-wss-wssecurity-utility-1.0.xsd\" xmlns:wsp=\"http://schemas.xmlsoap.org/ws/2004/09/policy\" xmlns:wst=\"http://schemas.xmlsoap.org/ws/2005/02/trust\"><wsp:AppliesTo><wsa:EndpointReference xmlns:wsa=\"http://www.w3.org/2005/08/addressing\"><wsa:Address>https://cisco.sharepoint.com</wsa:Address></wsa:EndpointReference></wsp:AppliesTo><psf:pp xmlns:psf=\"http://schemas.microsoft.com/Passport/SoapServices/SOAPFault\"><psf:reqstatus>0x8004882c</psf:reqstatus><psf:errorstatus>0x80045b00</psf:errorstatus></psf:pp></wst:RequestSecurityTokenResponse></S:Body></S:Envelope>')"
     ]
    }
   ],
   "source": [
    "from shareplum import Site\n",
    "from shareplum import Office365\n",
    "\n",
    "authcookie = Office365('https://cisco.sharepoint.com', username=USERNAME, password=PASSWORD).GetCookies()\n",
    "site = Site(\"https://cisco.sharepoint.com/sites/CSAPGlobal\", authcookie=authcookie)\n",
    "#sp_list = site.List('list name')\n",
    "#data = sp_list.GetListItems('All Items', rowlimit=200)"
   ]
  },
  {
   "cell_type": "code",
   "execution_count": 155,
   "metadata": {},
   "outputs": [],
   "source": [
    "import paramiko\n",
    "import os\n",
    "paramiko.util.log_to_file(\"paramiko.log\")\n",
    "\n",
    "# Open a transport\n",
    "host,port = \"192.168.8.107\",22\n",
    "transport = paramiko.Transport((host,port))\n",
    "\n",
    "# Auth    \n",
    "username,password = \"pi\",\"raspberry\"\n",
    "transport.connect(None,username,password)\n",
    "\n",
    "# Go!    \n",
    "sftp = paramiko.SFTPClient.from_transport(transport)\n",
    "sftp\n",
    "\n",
    "# import subscriber data\n",
    "f = sftp.open(\"/home/pi/CSAP_Bot/test.txt\", \"r\")\n",
    "data = (f.read()).decode('ascii')\n",
    "data = json.loads(data)\n",
    "\n",
    "data[\"subscribers\"].remove(\"elise\") # add new subscriber\n",
    "f.close()\n",
    "\n",
    "# update subscriber data file\n",
    "f = sftp.open(\"/home/pi/CSAP_Bot/test.txt\", \"w\")\n",
    "json.dump(data, f)\n",
    "f.close()\n",
    "\n",
    "\n",
    "# Download\n",
    "filepath = \"/home/pi/CSAP_Bot/test.txt\"\n",
    "localpath = \"test.txt\"\n",
    "sftp.get(filepath,localpath)\n",
    "\n",
    "# Upload\n",
    "# filepath = \"/home/foo.jpg\"\n",
    "# localpath = \"/home/pony.jpg\"\n",
    "# sftp.put(localpath,filepath)\n",
    "\n",
    "# Close\n",
    "if sftp: sftp.close()\n",
    "if transport: transport.close()"
   ]
  },
  {
   "cell_type": "code",
   "execution_count": 28,
   "metadata": {},
   "outputs": [
    {
     "data": {
      "text/plain": [
       "'pi'"
      ]
     },
     "execution_count": 28,
     "metadata": {},
     "output_type": "execute_result"
    }
   ],
   "source": [
    "import json\n",
    "\n",
    "with open('creds.txt') as json_file:\n",
    "    data = json.load(json_file)\n",
    "    \n",
    "data[\"username\"]"
   ]
  },
  {
   "cell_type": "code",
   "execution_count": 56,
   "metadata": {},
   "outputs": [],
   "source": [
    "def check_ping():\n",
    "    hostname = \"192.168.8.107\"\n",
    "    response = os.system(\"ping -n 1 \" + hostname)\n",
    "    # and then check the response...\n",
    "    if response == 0:\n",
    "        pingstatus = \"Network Active\"\n",
    "    else:\n",
    "        pingstatus = \"Network Error\"\n",
    "\n",
    "    return pingstatus"
   ]
  },
  {
   "cell_type": "code",
   "execution_count": 57,
   "metadata": {},
   "outputs": [
    {
     "data": {
      "text/plain": [
       "'Network Error'"
      ]
     },
     "execution_count": 57,
     "metadata": {},
     "output_type": "execute_result"
    }
   ],
   "source": [
    "check_ping()"
   ]
  }
 ],
 "metadata": {
  "kernelspec": {
   "display_name": "Python 3",
   "language": "python",
   "name": "python3"
  },
  "language_info": {
   "codemirror_mode": {
    "name": "ipython",
    "version": 3
   },
   "file_extension": ".py",
   "mimetype": "text/x-python",
   "name": "python",
   "nbconvert_exporter": "python",
   "pygments_lexer": "ipython3",
   "version": "3.8.5"
  }
 },
 "nbformat": 4,
 "nbformat_minor": 4
}
